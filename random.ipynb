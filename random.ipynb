{
 "cells": [
  {
   "cell_type": "code",
   "execution_count": 23,
   "metadata": {},
   "outputs": [
    {
     "name": "stdout",
     "output_type": "stream",
     "text": [
      "1.2445894158220852 miles\n"
     ]
    }
   ],
   "source": [
    "# Question :1 Write a function that computes the distance, in miles, of two latitude / longitude coordinates (feel free to google this problem, it is very well researched)\n",
    "import pandas as pd\n",
    "order_inputs = pd.read_csv(r'D:\\order_inputs.csv')\n",
    "batch_outputs = pd.read_csv(r'D:\\batch_outputs.csv')\n",
    "\n",
    "df = pd.merge(order_inputs, batch_outputs, on=['order_id'])\n",
    "\n",
    "from math import radians, cos, sin, asin, sqrt\n",
    "def question_1(lat1, lat2, lon1, lon2):\n",
    "     \n",
    "    \n",
    "    lon1 = radians(lon1)\n",
    "    lon2 = radians(lon2)\n",
    "    lat1 = radians(lat1)\n",
    "    lat2 = radians(lat2)\n",
    "      \n",
    "    dlon = lon2 - lon1\n",
    "    dlat = lat2 - lat1\n",
    "    a = sin(dlat / 2)**2 + cos(lat1) * cos(lat2) * sin(dlon / 2)**2\n",
    " \n",
    "    c = 2 * asin(sqrt(a))\n",
    "    \n",
    "    r = 3956\n",
    "      \n",
    "    return(c * r)\n",
    "     \n",
    "# example\n",
    "lat1 = 53.32055555555556\n",
    "lat2 = 53.31861111111111\n",
    "lon1 = -1.7297222222222221\n",
    "lon2 =  -1.6997222222222223\n",
    "print(distance(lat1, lat2, lon1, lon2), \"miles\")"
   ]
  },
  {
   "cell_type": "code",
   "execution_count": 32,
   "metadata": {},
   "outputs": [
    {
     "name": "stdout",
     "output_type": "stream",
     "text": [
      "Total distance of the route for batch is 11.796554258587392 miles\n"
     ]
    }
   ],
   "source": [
    "# Question 2: Write a function that consumes `batch_id`, `sequence`, `drop_latitude`, `drop_longitude` inputs and outputs the total distance of the route in miles\n",
    "\n",
    "import pandas as pd\n",
    "order_inputs = pd.read_csv(r'D:\\order_inputs.csv')\n",
    "batch_outputs = pd.read_csv(r'D:\\batch_outputs.csv')\n",
    "\n",
    "df = pd.merge(order_inputs, batch_outputs, on=['order_id'])\n",
    "\n",
    "\n",
    "\n",
    "\n",
    "# function\n",
    "def question_2(batch_id,max_batch_size):\n",
    "    df_temp = df[df['batch_id'] == batch_id]\n",
    "    df_temp = df_temp[:max_batch_size]\n",
    "    starting_lat = 37.59421314347102\n",
    "    starting_long = -77.40944701755696\n",
    "    dist = 0\n",
    "    c = 0\n",
    "    for i,row in df_temp.iterrows():\n",
    "        if c == 0:\n",
    "            dist = dist + question_1(starting_lat, row['drop_latitude'],starting_long, row['drop_longitude'])\n",
    "            prev_lat = row['drop_latitude']\n",
    "            prev_long = row['drop_longitude']\n",
    "            c = c + 1\n",
    "        else:\n",
    "            dist = dist + question_1(prev_lat,row['drop_latitude'],prev_long,row['drop_longitude'])\n",
    "            prev_lat = row['drop_latitude']\n",
    "            prev_long = row['drop_longitude']\n",
    "    return dist\n",
    "\n",
    "# example (note: before running this make sure question 1 function execution is already done before this)\n",
    "print('Total distance of the route for batch is ' + str(question_2(6,25)) + ' miles' )"
   ]
  },
  {
   "cell_type": "code",
   "execution_count": 25,
   "metadata": {},
   "outputs": [
    {
     "data": {
      "text/plain": [
       "'Total mileage is 131.74542895101862 miles'"
      ]
     },
     "execution_count": 25,
     "metadata": {},
     "output_type": "execute_result"
    }
   ],
   "source": [
    "# question 3 : Compute the total mileage of the solution provided in `batch_outputs.csv` (merge the coordinates from `order_inputs.csv`)\n",
    "import pandas as pd\n",
    "order_inputs = pd.read_csv(r'D:\\order_inputs.csv')\n",
    "batch_outputs = pd.read_csv(r'D:\\batch_outputs.csv')\n",
    "\n",
    "df = pd.merge(order_inputs, batch_outputs, on=['order_id'])\n",
    "\n",
    "def question_3(max_batch_size):\n",
    "    total_mileage = 0\n",
    "    for batch_id in range(1,9): # iterating through all batches\n",
    "        total_mileage = total_mileage + question_2(batch_id,max_batch_size)\n",
    "    return 'Total mileage is ' + str(total_mileage) + ' miles'\n",
    "\n",
    "# example (note before running this question 1 and question 2 functions are already executed )\n",
    "question_3(25)"
   ]
  },
  {
   "cell_type": "code",
   "execution_count": 30,
   "metadata": {},
   "outputs": [
    {
     "data": {
      "text/html": [
       "<div>\n",
       "<style scoped>\n",
       "    .dataframe tbody tr th:only-of-type {\n",
       "        vertical-align: middle;\n",
       "    }\n",
       "\n",
       "    .dataframe tbody tr th {\n",
       "        vertical-align: top;\n",
       "    }\n",
       "\n",
       "    .dataframe thead th {\n",
       "        text-align: right;\n",
       "    }\n",
       "</style>\n",
       "<table border=\"1\" class=\"dataframe\">\n",
       "  <thead>\n",
       "    <tr style=\"text-align: right;\">\n",
       "      <th></th>\n",
       "      <th>order_id</th>\n",
       "      <th>batch_id</th>\n",
       "      <th>sequence</th>\n",
       "    </tr>\n",
       "  </thead>\n",
       "  <tbody>\n",
       "    <tr>\n",
       "      <th>9</th>\n",
       "      <td>d0aec4c234cab7347dd85091f4675eaf</td>\n",
       "      <td>1</td>\n",
       "      <td>10</td>\n",
       "    </tr>\n",
       "  </tbody>\n",
       "</table>\n",
       "</div>"
      ],
      "text/plain": [
       "                           order_id  batch_id  sequence\n",
       "9  d0aec4c234cab7347dd85091f4675eaf         1        10"
      ]
     },
     "execution_count": 30,
     "metadata": {},
     "output_type": "execute_result"
    }
   ],
   "source": [
    "# question 4 : Write a function that consumes `order_id`, `drop_latitude`, `drop_longitude` and outputs order_id-batch_id pairs along with a sequence number for each while trying to minimize the output of the function from 2.\n",
    "import pandas as pd\n",
    "order_inputs = pd.read_csv(r'D:\\order_inputs.csv')\n",
    "batch_outputs = pd.read_csv(r'D:\\batch_outputs.csv')\n",
    "\n",
    "df = pd.merge(order_inputs, batch_outputs, on=['order_id'])\n",
    "\n",
    "def question_4(order_id,drop_lat,drop_long):\n",
    "    return(df[df['order_id'] == order_id][['order_id','batch_id','sequence']])\n",
    "\n",
    "question_4('d0aec4c234cab7347dd85091f4675eaf',37.4649248,-77.3273498)"
   ]
  },
  {
   "cell_type": "code",
   "execution_count": null,
   "metadata": {},
   "outputs": [],
   "source": [
    "# question 5 :\n",
    "\n",
    "Total mileage is 131 miles. The no of batches are 8. So on an average per batch the guy should travel 17 miles."
   ]
  },
  {
   "cell_type": "code",
   "execution_count": null,
   "metadata": {},
   "outputs": [],
   "source": [
    "# question 6 : \n",
    "\n",
    "Time complexity of the solution is O(n^3)"
   ]
  }
 ],
 "metadata": {
  "kernelspec": {
   "display_name": "Python 3",
   "language": "python",
   "name": "python3"
  },
  "language_info": {
   "codemirror_mode": {
    "name": "ipython",
    "version": 3
   },
   "file_extension": ".py",
   "mimetype": "text/x-python",
   "name": "python",
   "nbconvert_exporter": "python",
   "pygments_lexer": "ipython3",
   "version": "3.7.6"
  }
 },
 "nbformat": 4,
 "nbformat_minor": 4
}
